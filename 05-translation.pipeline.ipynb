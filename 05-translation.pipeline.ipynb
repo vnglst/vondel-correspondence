{
 "cells": [
  {
   "cell_type": "code",
   "execution_count": 3,
   "metadata": {},
   "outputs": [],
   "source": [
    "from llm import LLM\n",
    "from db import Database\n",
    "\n",
    "client = LLM()\n",
    "db = Database()"
   ]
  },
  {
   "cell_type": "code",
   "execution_count": 4,
   "metadata": {},
   "outputs": [
    {
     "name": "stdout",
     "output_type": "stream",
     "text": [
      "Found 5 letters to update.\n",
      "Generating response with model gpt-4o-2024-05-13\n",
      "Updated letter 9 with modernized English translation.\n",
      "Generating response with model gpt-4o-2024-05-13\n",
      "Updated letter 10 with modernized English translation.\n",
      "Generating response with model gpt-4o-2024-05-13\n",
      "Updated letter 11 with modernized English translation.\n",
      "Generating response with model gpt-4o-2024-05-13\n",
      "Updated letter 12 with modernized English translation.\n",
      "Generating response with model gpt-4o-2024-05-13\n",
      "Updated letter 13 with modernized English translation.\n"
     ]
    }
   ],
   "source": [
    "def translate(text):\n",
    "    system = \"\"\"\n",
    "    You are an expert translator specializing in converting 17th century texts to modern English. Your task is to:\n",
    "    - Translate the text to modern English.\n",
    "    - Maintain the original meaning and context as much as possible.\n",
    "    - Use contemporary vocabulary and sentence structures.\n",
    "    - Avoid using archaic terms or complex grammatical constructions.\n",
    "    - Add line breaks where necessary to improve readability, for instance when words are capitalized.\n",
    "    - Maintain the markdown formatting of the original text.\n",
    "    - Do not add code block markers (```) to the response.\n",
    "    \n",
    "    Respond with only the translated text.\n",
    "    \"\"\"\n",
    "\n",
    "    prompt = f\"\"\"\n",
    "    Please translate the following text into modern English.\n",
    "\n",
    "    {text}\n",
    "    \"\"\"\n",
    "    \n",
    "    return client.generate(\n",
    "        messages=[\n",
    "            {\n",
    "                'role': 'system',\n",
    "                'content': system\n",
    "            },\n",
    "            {\n",
    "                'role': 'user',\n",
    "                'content': prompt\n",
    "            }\n",
    "        ],\n",
    "    )    \n",
    "\n",
    "db.execute(\"\"\"\n",
    "    ALTER TABLE IF EXISTS letters\n",
    "    ADD COLUMN IF NOT EXISTS english TEXT\n",
    "\"\"\")\n",
    "\n",
    "db.execute(\"\"\"\n",
    "    SELECT id, markdown FROM letters\n",
    "    WHERE markdown IS NOT NULL AND english IS NULL\n",
    "    ORDER BY id\n",
    "\"\"\")\n",
    "\n",
    "letters = db.fetchall()\n",
    "\n",
    "print(f'Found {len(letters)} letters to update.')\n",
    "\n",
    "for letter in letters:\n",
    "    english = translate(letter[1])\n",
    "    db.execute(\"\"\"\n",
    "        UPDATE letters\n",
    "        SET english = %s\n",
    "        WHERE id = %s\n",
    "    \"\"\", (english, letter[0]))\n",
    "    print(f'Updated letter {letter[0]} with modernized English translation.')"
   ]
  }
 ],
 "metadata": {
  "kernelspec": {
   "display_name": ".venv",
   "language": "python",
   "name": "python3"
  },
  "language_info": {
   "codemirror_mode": {
    "name": "ipython",
    "version": 3
   },
   "file_extension": ".py",
   "mimetype": "text/x-python",
   "name": "python",
   "nbconvert_exporter": "python",
   "pygments_lexer": "ipython3",
   "version": "3.12.4"
  }
 },
 "nbformat": 4,
 "nbformat_minor": 2
}
