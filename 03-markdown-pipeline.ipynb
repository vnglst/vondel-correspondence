{
 "cells": [
  {
   "cell_type": "code",
   "execution_count": 1,
   "metadata": {},
   "outputs": [],
   "source": [
    "from llm import LLM\n",
    "from db import Database\n",
    "\n",
    "client = LLM()\n",
    "db = Database()"
   ]
  },
  {
   "cell_type": "code",
   "execution_count": 2,
   "metadata": {},
   "outputs": [],
   "source": [
    "db.execute(\"\"\"\n",
    "    ALTER TABLE IF EXISTS letters\n",
    "    ADD COLUMN IF NOT EXISTS markdown TEXT\n",
    "\"\"\")"
   ]
  },
  {
   "cell_type": "code",
   "execution_count": 3,
   "metadata": {},
   "outputs": [
    {
     "name": "stdout",
     "output_type": "stream",
     "text": [
      "Retrieved letters... 5\n",
      "Letter ids: [9, 10, 11, 12, 13]\n",
      "Generating response with model gpt-4o-2024-05-13\n",
      "Processed letter 9.\n",
      "Generating response with model gpt-4o-2024-05-13\n",
      "Processed letter 10.\n",
      "Generating response with model gpt-4o-2024-05-13\n",
      "Processed letter 11.\n",
      "Generating response with model gpt-4o-2024-05-13\n",
      "Processed letter 12.\n",
      "Generating response with model gpt-4o-2024-05-13\n",
      "Processed letter 13.\n",
      "Done!\n"
     ]
    }
   ],
   "source": [
    "def convert_to_markdown(text):\n",
    "    system = \"\"\"\n",
    "    You are an expert in markdown and have been asked to convert a series of letters to markdown.\n",
    "    \"\"\"\n",
    "    \n",
    "    prompt = f\"\"\"\n",
    "    Convert the following text to markdown using these rules:\n",
    "    - Who the letter is from should be a level 2 header (##) only if explicitly stated in the original text. Keep the name and any other information in the same line.\n",
    "    - When the letter was written should be a level 3 header (###) only if explicitly stated in the original text. Keep the date and any other information in the same line. Don't mention if the date is not present.\n",
    "    - No changes should be made to the body of the letter.\n",
    "    - Don't add any text that is not present in the original.\n",
    "    - Don't remove any information that is present in the original text.\n",
    "    - Do not add headers for the sender or date if this information is not explicitly provided in the original text.\n",
    "    - Do not add code block markers (```) to the response.\n",
    "    - Present the converted text directly without any additional formatting or explanations.\n",
    "    \n",
    "    Do this for the following text:\n",
    "\n",
    "    {text}\n",
    "    \"\"\"\n",
    "        \n",
    "    return client.generate(\n",
    "        messages=[\n",
    "            {\n",
    "                'role': 'system',\n",
    "                'content': system\n",
    "            },\n",
    "            {\n",
    "                'role': 'user',\n",
    "                'content': prompt\n",
    "            }\n",
    "        ],\n",
    "    )\n",
    "    \n",
    "\n",
    "db.execute(\"\"\"\n",
    "    SELECT id, raw\n",
    "    FROM letters\n",
    "    ORDER BY id ASC\n",
    "\"\"\")\n",
    "\n",
    "rows = db.fetchall()\n",
    "\n",
    "print('Retrieved letters...', len(rows))\n",
    "print('Letter ids:', [row[0] for row in rows])\n",
    "\n",
    "for row in rows:\n",
    "    row_id, raw = row\n",
    "    markdown = convert_to_markdown(raw)\n",
    "    \n",
    "    db.execute(\"\"\"\n",
    "        UPDATE letters\n",
    "        SET markdown = %s\n",
    "        WHERE id = %s\n",
    "    \"\"\", (markdown, row_id))\n",
    "    \n",
    "    print(f'Processed letter {row_id}.')\n",
    "    \n",
    "print('Done!')\n",
    "\n"
   ]
  }
 ],
 "metadata": {
  "kernelspec": {
   "display_name": ".venv",
   "language": "python",
   "name": "python3"
  },
  "language_info": {
   "codemirror_mode": {
    "name": "ipython",
    "version": 3
   },
   "file_extension": ".py",
   "mimetype": "text/x-python",
   "name": "python",
   "nbconvert_exporter": "python",
   "pygments_lexer": "ipython3",
   "version": "3.12.4"
  }
 },
 "nbformat": 4,
 "nbformat_minor": 2
}
