{
 "cells": [
  {
   "cell_type": "markdown",
   "metadata": {},
   "source": [
    "# Split up in letters\n",
    "\n",
    "In this notebook we'll combine all the ocr-ed pages into one large text. This text will be split into individual letters using the seperator *****.\n",
    "\n",
    "We'll store the individual letters in a database table `letters`. It'll have the following columns:\n",
    "- `id`: unique identifier\n",
    "- `letter`: the text of the letter\n",
    "- `start_page`: the page number where the letter starts\n",
    "- `end_page`: the page number where the letter ends"
   ]
  },
  {
   "cell_type": "code",
   "execution_count": 23,
   "metadata": {},
   "outputs": [],
   "source": [
    "\n",
    "import re\n",
    "from db import Database\n",
    "\n",
    "db = Database()"
   ]
  },
  {
   "cell_type": "code",
   "execution_count": 24,
   "metadata": {},
   "outputs": [],
   "source": [
    "db.execute(\"\"\"\n",
    "    CREATE TABLE IF NOT EXISTS letters (\n",
    "        id SERIAL PRIMARY KEY,\n",
    "        raw TEXT,\n",
    "        start_page INTEGER,\n",
    "        end_page INTEGER,\n",
    "        markdown TEXT,\n",
    "        english TEXT,\n",
    "        sender TEXT,\n",
    "        recipient TEXT,\n",
    "        subject TEXT,\n",
    "        send_date DATE,\n",
    "        location TEXT,\n",
    "        geolocation FLOAT[],\n",
    "        language TEXT,\n",
    "        summary TEXT\n",
    "    )\n",
    "\"\"\")"
   ]
  },
  {
   "cell_type": "code",
   "execution_count": 25,
   "metadata": {},
   "outputs": [
    {
     "name": "stdout",
     "output_type": "stream",
     "text": [
      "Found 11 pages\n",
      "Found 5 letters\n",
      "First Lines: BRIEVEN VA\n",
      "Inserted letter 1 of 5\n",
      "First Lines: \n",
      "VONDEL AA\n",
      "Inserted letter 2 of 5\n",
      "First Lines: \n",
      "VONDEL AA\n",
      "Inserted letter 3 of 5\n",
      "First Lines: \n",
      "\n",
      "WILLEM V\n",
      "Inserted letter 4 of 5\n",
      "First Lines: \n",
      "\n",
      "WILLEM V\n",
      "Inserted letter 5 of 5\n"
     ]
    }
   ],
   "source": [
    "# Fetch all pages with content and concatenate them into a single string, separated by newlines\n",
    "db.execute(\"\"\"\n",
    "    SELECT ocr_improved, page_number \n",
    "    FROM pages \n",
    "    WHERE ocr_improved IS NOT NULL AND page_number > 22\n",
    "    ORDER BY page_number\n",
    "    \"\"\")\n",
    "\n",
    "pages = db.fetchall()\n",
    "print(f\"Found {len(pages)} pages\")\n",
    "\n",
    "book = \"\\n\".join((page[0] if page[0] is not None else \"\") for page in pages)\n",
    "\n",
    "# Split the book into letters based on 3 to 7 consecutive asterisks\n",
    "letters = re.split(r\"\\*{3,7}\", book)\n",
    "\n",
    "print(f\"Found {len(letters)} letters\")\n",
    "\n",
    "for i, letter in enumerate(letters):\n",
    "    # Skip empty letters, or letters that only contain whitespace or new lines\n",
    "    if not letter.strip():\n",
    "        continue\n",
    "    \n",
    "    \n",
    "    start_snippet, end_snippet = letter[:50], letter[-50:]\n",
    "    print(f\"First Lines: {letter[:10]}\")\n",
    "\n",
    "    # Check if the letter already exists in the database\n",
    "    db.execute(\"\"\"SELECT id FROM letters WHERE raw = %s\"\"\", (letter,))\n",
    "    existing_letter = db.fetchone()\n",
    "\n",
    "    if existing_letter:\n",
    "        print(f\"Letter {i + 1} already exists in the database.\")\n",
    "        continue\n",
    "\n",
    "    # Find the start and end page numbers based on these snippets\n",
    "    db.execute(\"\"\"\n",
    "        SELECT min(page_number), max(page_number)\n",
    "        FROM pages\n",
    "        WHERE ocr_improved LIKE %s OR ocr_improved LIKE %s\n",
    "    \"\"\", (f\"%{start_snippet}%\", f\"%{end_snippet}%\"))\n",
    "\n",
    "    start_page, end_page = db.fetchone()\n",
    "\n",
    "    # Insert the letter with its start and end page numbers into the database\n",
    "    if start_page and end_page:\n",
    "        db.execute(\"INSERT INTO letters (raw, start_page, end_page) VALUES (%s, %s, %s)\", (letter, start_page, end_page))\n",
    "        print(f\"Inserted letter {i + 1} of {len(letters)}\")\n",
    "    else:\n",
    "        print(f\"Page range for letter {i + 1} could not be determined.\")\n"
   ]
  },
  {
   "cell_type": "code",
   "execution_count": null,
   "metadata": {},
   "outputs": [],
   "source": []
  }
 ],
 "metadata": {
  "kernelspec": {
   "display_name": ".venv",
   "language": "python",
   "name": "python3"
  },
  "language_info": {
   "codemirror_mode": {
    "name": "ipython",
    "version": 3
   },
   "file_extension": ".py",
   "mimetype": "text/x-python",
   "name": "python",
   "nbconvert_exporter": "python",
   "pygments_lexer": "ipython3",
   "version": "3.12.4"
  }
 },
 "nbformat": 4,
 "nbformat_minor": 2
}
